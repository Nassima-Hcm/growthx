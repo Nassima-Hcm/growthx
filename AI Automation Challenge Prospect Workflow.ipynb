{
 "cells": [
  {
   "cell_type": "code",
   "execution_count": 29,
   "id": "1bbff97b-a25a-40eb-ac95-d797cfb7bf02",
   "metadata": {},
   "outputs": [
    {
     "name": "stdout",
     "output_type": "stream",
     "text": [
      "We help teams build end-to-end AI-powered, human-guided automated content workflows that actually drive growth. We have tons of results to back it up!\n",
      "We develop a custom SEOÂ and digital strategy based on tried-and-true growth playbooks.\n",
      "We help build and scale powerful integrated workflows using the latest AI models like GPT-4.\n",
      "We couple that with SEO and content experts in the loop to ensure every piece of content is vetted.\n",
      "We combine proven playbooks with AI workflows, tons of automation, and highly trained humans in the loop to deliver real results. \n",
      "Designed by Marcel Santilli\n"
     ]
    }
   ],
   "source": [
    "import requests\n",
    "from bs4 import BeautifulSoup\n",
    "\n",
    "def scrape_website(url):\n",
    "    \"\"\"Scrape the website content.\"\"\"\n",
    "    try:\n",
    "        response = requests.get(url)\n",
    "        response.raise_for_status()  # Raise an error for bad responses\n",
    "        return response.text\n",
    "    except Exception as e:\n",
    "        print(f\"Error scraping the website: {e}\")\n",
    "        return None\n",
    "\n",
    "# Example usage\n",
    "company_website = \"https://growthxlabs.com/\"\n",
    "html_content = scrape_website(company_website)\n",
    "\n",
    "if html_content:  # Ensure we have content to process\n",
    "    soup = BeautifulSoup(html_content, 'html.parser')\n",
    "    \n",
    "    # Example: Extracting all paragraph text\n",
    "    paragraphs = soup.find_all('p')\n",
    "    for p in paragraphs:\n",
    "        print(p.get_text())\n",
    "else:\n",
    "    print(\"No content available for processing.\")\n"
   ]
  },
  {
   "cell_type": "code",
   "execution_count": null,
   "id": "8d6390a1-4bdb-4693-abd4-b8fc29a836c9",
   "metadata": {},
   "outputs": [],
   "source": []
  }
 ],
 "metadata": {
  "kernelspec": {
   "display_name": "Python 3 (ipykernel)",
   "language": "python",
   "name": "python3"
  },
  "language_info": {
   "codemirror_mode": {
    "name": "ipython",
    "version": 3
   },
   "file_extension": ".py",
   "mimetype": "text/x-python",
   "name": "python",
   "nbconvert_exporter": "python",
   "pygments_lexer": "ipython3",
   "version": "3.12.4"
  }
 },
 "nbformat": 4,
 "nbformat_minor": 5
}
